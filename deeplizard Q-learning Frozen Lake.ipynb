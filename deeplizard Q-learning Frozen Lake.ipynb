{
  "cells": [
    {
      "cell_type": "markdown",
      "metadata": {
        "id": "wW9TKRb-3mQx"
      },
      "source": [
        "# Playing Frozen Lake with Q-learning"
      ]
    },
    {
      "cell_type": "markdown",
      "metadata": {
        "id": "utRErNFo3mQ0"
      },
      "source": [
        "Winter is here. You and your friends were tossing around a frisbee at the park when you made a wild throw that left the frisbee out in the middle of the lake. The water is mostly frozen, but there are a few holes where the ice has melted. If you step into one of those holes, you'll fall into the freezing water. \n",
        "\n",
        "At this time, there's an international frisbee shortage, so it's absolutely imperative that you navigate across the lake and retrieve the disc. However, the ice is slippery, so you won't always move in the direction you intend.\n",
        "\n",
        "The surface is described using a grid like the following:\n",
        "\n",
        "SFFF       \n",
        "FHFH       \n",
        "FFFH       \n",
        "HFFG\n",
        "\n",
        "S: starting point, safe  \n",
        "F: frozen surface, safe  \n",
        "H: hole, fall to your doom  \n",
        "G: goal, where the frisbee is located\n",
        "\n",
        "The episode ends when you reach the goal or fall in a hole.  \n",
        "You receive a reward of 1 if you reach the goal, and zero otherwise.\n",
        "\n",
        "Actions:  \n",
        "0: LEFT  \n",
        "1: DOWN  \n",
        "2: RIGHT  \n",
        "3: UP  \n",
        "\n",
        "`is_slippery`: True/False. If True, will move in intended direction with probability of 1/3 else will move in either perpendicular direction with equal probability of 1/3 in both directions.\n",
        "\n",
        "https://www.gymlibrary.ml/environments/toy_text/frozen_lake/?highlight=frozenlake"
      ]
    },
    {
      "cell_type": "code",
      "execution_count": 1,
      "metadata": {
        "id": "x4YFtAmk3mQ4",
        "outputId": "125eee48-dd17-4004-ae2b-4e82543e13f3",
        "colab": {
          "base_uri": "https://localhost:8080/"
        }
      },
      "outputs": [
        {
          "output_type": "stream",
          "name": "stdout",
          "text": [
            "Looking in indexes: https://pypi.org/simple, https://us-python.pkg.dev/colab-wheels/public/simple/\n",
            "Requirement already satisfied: gym in /usr/local/lib/python3.7/dist-packages (0.17.3)\n",
            "Collecting gym\n",
            "  Downloading gym-0.25.1.tar.gz (732 kB)\n",
            "\u001b[K     |████████████████████████████████| 732 kB 5.4 MB/s \n",
            "\u001b[?25h  Installing build dependencies ... \u001b[?25l\u001b[?25hdone\n",
            "  Getting requirements to build wheel ... \u001b[?25l\u001b[?25hdone\n",
            "    Preparing wheel metadata ... \u001b[?25l\u001b[?25hdone\n",
            "Requirement already satisfied: cloudpickle>=1.2.0 in /usr/local/lib/python3.7/dist-packages (from gym) (1.3.0)\n",
            "Requirement already satisfied: importlib-metadata>=4.8.0 in /usr/local/lib/python3.7/dist-packages (from gym) (4.12.0)\n",
            "Requirement already satisfied: numpy>=1.18.0 in /usr/local/lib/python3.7/dist-packages (from gym) (1.21.6)\n",
            "Collecting gym-notices>=0.0.4\n",
            "  Downloading gym_notices-0.0.7-py3-none-any.whl (2.7 kB)\n",
            "Requirement already satisfied: typing-extensions>=3.6.4 in /usr/local/lib/python3.7/dist-packages (from importlib-metadata>=4.8.0->gym) (4.1.1)\n",
            "Requirement already satisfied: zipp>=0.5 in /usr/local/lib/python3.7/dist-packages (from importlib-metadata>=4.8.0->gym) (3.8.1)\n",
            "Building wheels for collected packages: gym\n",
            "  Building wheel for gym (PEP 517) ... \u001b[?25l\u001b[?25hdone\n",
            "  Created wheel for gym: filename=gym-0.25.1-py3-none-any.whl size=849048 sha256=c14f23c0c8ca9fa3ead26bc8be7392547109e23416019d008e59603a59a22efd\n",
            "  Stored in directory: /root/.cache/pip/wheels/0e/2d/04/f964345f96b1348723057d60011be1e48885a027c9c5b92210\n",
            "Successfully built gym\n",
            "Installing collected packages: gym-notices, gym\n",
            "  Attempting uninstall: gym\n",
            "    Found existing installation: gym 0.17.3\n",
            "    Uninstalling gym-0.17.3:\n",
            "      Successfully uninstalled gym-0.17.3\n",
            "Successfully installed gym-0.25.1 gym-notices-0.0.7\n"
          ]
        }
      ],
      "source": [
        "%pip install --upgrade gym"
      ]
    },
    {
      "cell_type": "code",
      "execution_count": 2,
      "metadata": {
        "id": "7KCLXavV3mQ6",
        "outputId": "9186865f-42a0-4e58-a582-3c93a3ea563c",
        "colab": {
          "base_uri": "https://localhost:8080/",
          "height": 35
        }
      },
      "outputs": [
        {
          "output_type": "execute_result",
          "data": {
            "text/plain": [
              "'0.25.1'"
            ],
            "application/vnd.google.colaboratory.intrinsic+json": {
              "type": "string"
            }
          },
          "metadata": {},
          "execution_count": 2
        }
      ],
      "source": [
        "import numpy as np\n",
        "import gym\n",
        "import random\n",
        "import time\n",
        "from IPython.display import clear_output\n",
        "gym.__version__"
      ]
    },
    {
      "cell_type": "code",
      "execution_count": null,
      "metadata": {
        "id": "kj0Mm9UZ3mQ7"
      },
      "outputs": [],
      "source": [
        "env = gym.make(\"FrozenLake-v1\", new_step_api=True, is_slippery=False)"
      ]
    },
    {
      "cell_type": "code",
      "execution_count": null,
      "metadata": {
        "id": "LZQAIagW3mQ9",
        "outputId": "dfd18552-f048-4b67-f90a-aefdb1d53f89"
      },
      "outputs": [
        {
          "data": {
            "text/plain": [
              "EnvSpec(id='FrozenLake-v1', entry_point='gym.envs.toy_text.frozen_lake:FrozenLakeEnv', reward_threshold=0.7, nondeterministic=False, max_episode_steps=100, order_enforce=True, autoreset=False, disable_env_checker=False, new_step_api=False, kwargs={'map_name': '4x4', 'is_slippery': False}, namespace=None, name='FrozenLake', version=1)"
            ]
          },
          "execution_count": 4,
          "metadata": {},
          "output_type": "execute_result"
        }
      ],
      "source": [
        "env.spec"
      ]
    },
    {
      "cell_type": "code",
      "execution_count": null,
      "metadata": {
        "id": "NtKaNTkQ3mQ-",
        "outputId": "22d7a602-1f82-4456-f720-6ed2cc33cb3c"
      },
      "outputs": [
        {
          "data": {
            "text/plain": [
              "array([[b'S', b'F', b'F', b'F'],\n",
              "       [b'F', b'H', b'F', b'H'],\n",
              "       [b'F', b'F', b'F', b'H'],\n",
              "       [b'H', b'F', b'F', b'G']], dtype='|S1')"
            ]
          },
          "execution_count": 5,
          "metadata": {},
          "output_type": "execute_result"
        }
      ],
      "source": [
        "env.desc"
      ]
    },
    {
      "cell_type": "code",
      "execution_count": null,
      "metadata": {
        "id": "g6yCZG9z3mQ_"
      },
      "outputs": [],
      "source": [
        "action_space_size = env.action_space.n\n",
        "state_space_size = env.observation_space.n\n",
        "\n",
        "q_table = np.zeros((state_space_size, action_space_size))\n",
        "#print(q_table)"
      ]
    },
    {
      "cell_type": "code",
      "execution_count": null,
      "metadata": {
        "id": "MEbjYHsF3mRB"
      },
      "outputs": [],
      "source": [
        "num_episodes = 10000\n",
        "max_steps_per_episode = 100\n",
        "\n",
        "learning_rate = 0.1\n",
        "discount_rate = 0.99\n",
        "\n",
        "exploration_rate = 1\n",
        "max_exploration_rate = 1\n",
        "min_exploration_rate = 0.01\n",
        "exploration_decay_rate = 0.001"
      ]
    },
    {
      "cell_type": "code",
      "execution_count": null,
      "metadata": {
        "id": "7XSQaZVi3mRD",
        "outputId": "213c7035-78ad-48a1-e8bc-918ab50234e6"
      },
      "outputs": [
        {
          "name": "stdout",
          "output_type": "stream",
          "text": [
            "********Average reward per thousand episodes********\n",
            "\n",
            "1000 :  0.2610000000000002\n",
            "2000 :  0.7190000000000005\n",
            "3000 :  0.9000000000000007\n",
            "4000 :  0.9660000000000007\n",
            "5000 :  0.9790000000000008\n",
            "6000 :  0.9830000000000008\n",
            "7000 :  0.9950000000000008\n",
            "8000 :  0.9890000000000008\n",
            "9000 :  0.9920000000000008\n",
            "10000 :  0.9860000000000008\n",
            "\n",
            "\n",
            "********Q-table********\n",
            "\n",
            "[[0.94148015 0.95099005 0.93206535 0.94148015]\n",
            " [0.94148015 0.         0.60634858 0.83463864]\n",
            " [0.83194283 0.17892079 0.0158612  0.41394516]\n",
            " [0.1332636  0.         0.0032877  0.        ]\n",
            " [0.95099005 0.96059601 0.         0.94148015]\n",
            " [0.         0.         0.         0.        ]\n",
            " [0.         0.78607882 0.         0.13285992]\n",
            " [0.         0.         0.         0.        ]\n",
            " [0.96059601 0.         0.970299   0.95099004]\n",
            " [0.96059588 0.9801     0.98009998 0.        ]\n",
            " [0.9101944  0.99       0.         0.49007337]\n",
            " [0.         0.         0.         0.        ]\n",
            " [0.         0.         0.         0.        ]\n",
            " [0.         0.98009984 0.99       0.97029887]\n",
            " [0.98009985 0.98999944 1.         0.98009909]\n",
            " [0.         0.         0.         0.        ]]\n"
          ]
        }
      ],
      "source": [
        "rewards_all_episodes = []\n",
        "\n",
        "# Q-learning algorithm\n",
        "for episode in range(num_episodes):\n",
        "    state = env.reset()\n",
        "    done = False\n",
        "    rewards_current_episode = 0\n",
        "    \n",
        "    for step in range(max_steps_per_episode):       \n",
        "        \n",
        "        # Exploration-exploitation trade-off\n",
        "        exploration_rate_threshold = random.uniform(0, 1)\n",
        "        if exploration_rate_threshold > exploration_rate:\n",
        "            action = np.argmax(q_table[state,:]) \n",
        "        else:\n",
        "            action = env.action_space.sample()\n",
        "\n",
        "        new_state, reward, done, _, info = env.step(action)\n",
        "\n",
        "        # Update Q-table for Q(s,a)\n",
        "        q_table[state, action] = q_table[state, action] * (1 - learning_rate) + \\\n",
        "            learning_rate * (reward + discount_rate * np.max(q_table[new_state, :]))\n",
        "        \n",
        "        state = new_state\n",
        "        rewards_current_episode += reward        \n",
        "        \n",
        "        if done == True: \n",
        "            break\n",
        "           \n",
        "    # Exploration rate decay\n",
        "    exploration_rate = min_exploration_rate + \\\n",
        "        (max_exploration_rate - min_exploration_rate) * np.exp(-exploration_decay_rate*episode)    \n",
        "    \n",
        "    rewards_all_episodes.append(rewards_current_episode)\n",
        "\n",
        "# Calculate and print the average reward per thousand episodes\n",
        "rewards_per_thosand_episodes = np.split(np.array(rewards_all_episodes),num_episodes/1000)\n",
        "count = 1000\n",
        "print(\"********Average reward per thousand episodes********\\n\")\n",
        "for r in rewards_per_thosand_episodes:\n",
        "    print(count, \": \", str(sum(r/1000)))\n",
        "    count += 1000    \n",
        "\n",
        "# Print updated Q-table\n",
        "print(\"\\n\\n********Q-table********\\n\")\n",
        "print(q_table)"
      ]
    },
    {
      "cell_type": "code",
      "execution_count": null,
      "metadata": {
        "id": "LXrdeU-Q3mRF",
        "outputId": "958b40eb-11e7-45ca-b916-e77917283666"
      },
      "outputs": [
        {
          "name": "stdout",
          "output_type": "stream",
          "text": [
            "****You reached the goal!****\n"
          ]
        }
      ],
      "source": [
        "# Watch our agent play Frozen Lake by playing the best action \n",
        "# from each state according to the Q-table\n",
        "\n",
        "state = env.reset()\n",
        "done = False\n",
        "\n",
        "for step in range(max_steps_per_episode):        \n",
        "    clear_output(wait=True)\n",
        "    env.render()\n",
        "    time.sleep(0.3)\n",
        "    \n",
        "    action = np.argmax(q_table[state,:])        \n",
        "    new_state, reward, done, _, info = env.step(action)\n",
        "    \n",
        "    if done:\n",
        "        clear_output(wait=True)\n",
        "        env.render()\n",
        "        if reward == 1:\n",
        "            print(\"****You reached the goal!****\")\n",
        "            time.sleep(1)\n",
        "        else:\n",
        "            print(\"****You fell through a hole!****\")\n",
        "            time.sleep(1)\n",
        "        clear_output(wait=True)\n",
        "        break\n",
        "        \n",
        "    state = new_state\n",
        "    \n",
        "env.close()"
      ]
    },
    {
      "cell_type": "markdown",
      "metadata": {
        "id": "umsJ-z7w3mRI"
      },
      "source": [
        "# 8x8"
      ]
    },
    {
      "cell_type": "code",
      "execution_count": 3,
      "metadata": {
        "id": "HrjEXUf73mRI",
        "outputId": "dd2cd082-a3fc-45a8-b060-0b345c2eb56e",
        "colab": {
          "base_uri": "https://localhost:8080/"
        }
      },
      "outputs": [
        {
          "output_type": "execute_result",
          "data": {
            "text/plain": [
              "array([[b'S', b'F', b'F', b'F', b'F', b'F', b'F', b'F'],\n",
              "       [b'F', b'F', b'F', b'F', b'F', b'F', b'F', b'F'],\n",
              "       [b'F', b'F', b'F', b'H', b'F', b'F', b'F', b'F'],\n",
              "       [b'F', b'F', b'F', b'F', b'F', b'H', b'F', b'F'],\n",
              "       [b'F', b'F', b'F', b'H', b'F', b'F', b'F', b'F'],\n",
              "       [b'F', b'H', b'H', b'F', b'F', b'F', b'H', b'F'],\n",
              "       [b'F', b'H', b'F', b'F', b'H', b'F', b'H', b'F'],\n",
              "       [b'F', b'F', b'F', b'H', b'F', b'F', b'F', b'G']], dtype='|S1')"
            ]
          },
          "metadata": {},
          "execution_count": 3
        }
      ],
      "source": [
        "env = gym.make(\"FrozenLake-v1\", new_step_api=True, is_slippery=False, map_name='8x8')\n",
        "env.desc"
      ]
    },
    {
      "cell_type": "code",
      "execution_count": 4,
      "metadata": {
        "id": "8oSUoJIc3mRJ",
        "outputId": "4a7fa260-6228-4f11-8964-3bf2a8915081",
        "colab": {
          "base_uri": "https://localhost:8080/",
          "height": 913
        }
      },
      "outputs": [
        {
          "output_type": "stream",
          "name": "stderr",
          "text": [
            "/usr/local/lib/python3.7/dist-packages/gym/core.py:269: DeprecationWarning: \u001b[33mWARN: Function `env.seed(seed)` is marked as deprecated and will be removed in the future. Please use `env.reset(seed=seed)` instead.\u001b[0m\n",
            "  \"Function `env.seed(seed)` is marked as deprecated and will be removed in the future. \"\n",
            "/usr/local/lib/python3.7/dist-packages/gym/utils/seeding.py:96: DeprecationWarning: \u001b[33mWARN: Function `rng.seed(seed)` is marked as deprecated and will be removed in the future. Please use `rng, seed = gym.utils.seeding.np_random(seed)` to create a separate generator instead.\u001b[0m\n",
            "  \"Function `rng.seed(seed)` is marked as deprecated \"\n"
          ]
        },
        {
          "output_type": "stream",
          "name": "stdout",
          "text": [
            "********Average reward per thousand episodes********\n",
            "\n",
            "1000 :  0.1420000000000001\n",
            "2000 :  0.5140000000000003\n",
            "3000 :  0.7740000000000006\n",
            "4000 :  0.8730000000000007\n",
            "5000 :  0.9450000000000007\n",
            "6000 :  0.9630000000000007\n",
            "7000 :  0.9740000000000008\n",
            "8000 :  0.9840000000000008\n",
            "9000 :  0.9920000000000008\n",
            "10000 :  0.9940000000000008\n"
          ]
        },
        {
          "output_type": "execute_result",
          "data": {
            "text/plain": [
              "[<matplotlib.lines.Line2D at 0x7f41c6ea4d50>]"
            ]
          },
          "metadata": {},
          "execution_count": 4
        },
        {
          "output_type": "display_data",
          "data": {
            "text/plain": [
              "<Figure size 1080x720 with 1 Axes>"
            ],
            "image/png": "[encoded data removed]"
          },
          "metadata": {
            "needs_background": "light"
          }
        }
      ],
      "source": [
        "action_space_size = env.action_space.n\n",
        "state_space_size = env.observation_space.n\n",
        "\n",
        "num_episodes = 10000\n",
        "max_steps_per_episode = 100\n",
        "\n",
        "learning_rate = 0.01\n",
        "discount_rate = 0.99\n",
        "\n",
        "exploration_rate = 1\n",
        "max_exploration_rate = 1\n",
        "min_exploration_rate = 0\n",
        "exploration_decay_rate = 0.0005\n",
        "\n",
        "RANDOM_SEED = 0\n",
        "env.seed(RANDOM_SEED)\n",
        "np.random.seed(RANDOM_SEED)\n",
        "random.seed(RANDOM_SEED)\n",
        "env.action_space.seed(RANDOM_SEED)\n",
        "env.action_space.np_random.seed(RANDOM_SEED)\n",
        "\n",
        "q_table = np.zeros((state_space_size, action_space_size))\n",
        "\n",
        "rewards_all_episodes = []\n",
        "all_episodes_info = []\n",
        "output = []\n",
        "\n",
        "# Q-learning algorithm\n",
        "for episode in range(num_episodes):\n",
        "    state = env.reset()\n",
        "    done = False\n",
        "    rewards_current_episode = 0\n",
        "    step_count = 0\n",
        "    steps = []\n",
        "    for step in range(max_steps_per_episode):       \n",
        "        #print(episode, step)\n",
        "\n",
        "        #env.action_space.seed( (step * 100000) + episode )\n",
        "\n",
        "        step_count += 1\n",
        "\n",
        "        # Exploration-exploitation trade-off\n",
        "        exploration_rate_threshold = random.uniform(0, 1)\n",
        "\n",
        "        if exploration_rate_threshold > exploration_rate:\n",
        "            action = np.argmax(q_table[state,:]) \n",
        "        else:\n",
        "            action = env.action_space.sample()\n",
        "\n",
        "        steps.append(action)\n",
        "        new_state, reward, done, _, info = env.step(action)\n",
        "\n",
        "        # Update Q-table for Q(s,a)\n",
        "        q_table[state, action] = q_table[state, action] * (1 - learning_rate) + \\\n",
        "            learning_rate * (reward + discount_rate * np.max(q_table[new_state, :]))\n",
        "        \n",
        "        state = new_state\n",
        "        rewards_current_episode += reward        \n",
        "        \n",
        "        if done == True: \n",
        "            if reward == 1:\n",
        "              output.append(q_table.copy())\n",
        "            break\n",
        "    \n",
        "    all_episodes_info.append([episode, exploration_rate, step_count, reward, steps])\n",
        "\n",
        "    # Exploration rate decay\n",
        "    exploration_rate = min_exploration_rate + \\\n",
        "        (max_exploration_rate - min_exploration_rate) * np.exp(-exploration_decay_rate * episode)    \n",
        "    \n",
        "    rewards_all_episodes.append(rewards_current_episode)\n",
        "\n",
        "# Calculate and print the average reward per thousand episodes\n",
        "rewards_per_thosand_episodes = np.split(np.array(rewards_all_episodes), num_episodes/1000)\n",
        "count = 1000\n",
        "print(\"********Average reward per thousand episodes********\\n\")\n",
        "for r in rewards_per_thosand_episodes:\n",
        "    print(count, \": \", str(sum(r/1000)))\n",
        "    count += 1000    \n",
        "\n",
        "import matplotlib.pyplot as plt\n",
        "plt.figure(figsize=(15, 10))\n",
        "plt.plot([i[0] for i in all_episodes_info], [i[1] for i in all_episodes_info])\n",
        "plt.plot(range(1000, num_episodes + 1, 1000), [ sum(i)/1000 for i in rewards_per_thosand_episodes ] )"
      ]
    },
    {
      "cell_type": "markdown",
      "source": [
        "#### Last q_table"
      ],
      "metadata": {
        "id": "ooSBz1wR4kB3"
      }
    },
    {
      "cell_type": "code",
      "source": [
        "import json\n",
        "q = output[-1].round(2)\n",
        "for n in range(8):\n",
        "  print([ json.dumps(list(i)).ljust(25) for i in q[8*n:8*(n+1)] ])"
      ],
      "metadata": {
        "id": "18z2Dsuh4V-T",
        "outputId": "79238462-9200-433c-90a1-89e2a6f8c994",
        "colab": {
          "base_uri": "https://localhost:8080/"
        }
      },
      "execution_count": 9,
      "outputs": [
        {
          "output_type": "stream",
          "name": "stdout",
          "text": [
            "['[0.71, 0.33, 0.88, 0.69] ', '[0.68, 0.52, 0.89, 0.68] ', '[0.7, 0.67, 0.9, 0.71]   ', '[0.72, 0.74, 0.9, 0.73]  ', '[0.72, 0.91, 0.66, 0.74] ', '[0.19, 0.9, 0.14, 0.15]  ', '[0.08, 0.84, 0.12, 0.07] ', '[0.11, 0.87, 0.13, 0.1]  ']\n",
            "['[0.02, 0.0, 0.58, 0.06]  ', '[0.03, 0.01, 0.82, 0.1]  ', '[0.13, 0.03, 0.89, 0.24] ', '[0.23, 0.0, 0.91, 0.31]  ', '[0.73, 0.5, 0.92, 0.8]   ', '[0.8, 0.74, 0.93, 0.72]  ', '[0.81, 0.84, 0.94, 0.62] ', '[0.83, 0.95, 0.86, 0.68] ']\n",
            "['[0.0, 0.0, 0.0, 0.03]    ', '[0.0, 0.0, 0.0, 0.1]     ', '[0.0, 0.0, 0.0, 0.21]    ', '[0.0, 0.0, 0.0, 0.0]     ', '[0.0, 0.0, 0.74, 0.14]   ', '[0.1, 0.0, 0.92, 0.25]   ', '[0.24, 0.3, 0.95, 0.43]  ', '[0.86, 0.96, 0.91, 0.9]  ']\n",
            "['[0.0, 0.0, 0.0, 0.0]     ', '[0.0, 0.0, 0.0, 0.0]     ', '[0.0, 0.0, 0.0, 0.0]     ', '[0.0, 0.0, 0.0, 0.0]     ', '[0.0, 0.0, 0.0, 0.06]    ', '[0.0, 0.0, 0.0, 0.0]     ', '[0.0, 0.17, 0.92, 0.21]  ', '[0.79, 0.97, 0.93, 0.9]  ']\n",
            "['[0.0, 0.0, 0.0, 0.0]     ', '[0.0, 0.0, 0.0, 0.0]     ', '[0.0, 0.0, 0.0, 0.0]     ', '[0.0, 0.0, 0.0, 0.0]     ', '[0.0, 0.0, 0.0, 0.0]     ', '[0.0, 0.0, 0.14, 0.0]    ', '[0.02, 0.0, 0.93, 0.15]  ', '[0.8, 0.98, 0.94, 0.91]  ']\n",
            "['[0.0, 0.0, 0.0, 0.0]     ', '[0.0, 0.0, 0.0, 0.0]     ', '[0.0, 0.0, 0.0, 0.0]     ', '[0.0, 0.0, 0.0, 0.0]     ', '[0.0, 0.0, 0.0, 0.0]     ', '[0.0, 0.0, 0.0, 0.0]     ', '[0.0, 0.0, 0.0, 0.0]     ', '[0.0, 0.99, 0.94, 0.92]  ']\n",
            "['[0.0, 0.0, 0.0, 0.0]     ', '[0.0, 0.0, 0.0, 0.0]     ', '[0.0, 0.0, 0.0, 0.0]     ', '[0.0, 0.0, 0.0, 0.0]     ', '[0.0, 0.0, 0.0, 0.0]     ', '[0.0, 0.0, 0.0, 0.0]     ', '[0.0, 0.0, 0.0, 0.0]     ', '[0.0, 1.0, 0.94, 0.92]   ']\n",
            "['[0.0, 0.0, 0.0, 0.0]     ', '[0.0, 0.0, 0.0, 0.0]     ', '[0.0, 0.0, 0.0, 0.0]     ', '[0.0, 0.0, 0.0, 0.0]     ', '[0.0, 0.0, 0.0, 0.0]     ', '[0.0, 0.0, 0.0, 0.0]     ', '[0.0, 0.0, 0.0, 0.0]     ', '[0.0, 0.0, 0.0, 0.0]     ']\n"
          ]
        }
      ]
    },
    {
      "cell_type": "markdown",
      "metadata": {
        "id": "LvCl0gWZ3mRL"
      },
      "source": [
        "#### See how probabilities of actions are updated"
      ]
    },
    {
      "cell_type": "code",
      "execution_count": null,
      "metadata": {
        "id": "poJNrkK33mRL"
      },
      "outputs": [],
      "source": [
        "for q_table in output:    \n",
        "  q = q_table.round(2)\n",
        "  for n in range(8):\n",
        "    print([ json.dumps(list(i)).ljust(25) for i in q[8*n:8*(n+1)] ])\n",
        "  time.sleep(0.1)\n",
        "  clear_output(wait=True)"
      ]
    }
  ],
  "metadata": {
    "anaconda-cloud": {},
    "kernelspec": {
      "display_name": "Python 3.10.1 64-bit",
      "language": "python",
      "name": "python3"
    },
    "language_info": {
      "codemirror_mode": {
        "name": "ipython",
        "version": 3
      },
      "file_extension": ".py",
      "mimetype": "text/x-python",
      "name": "python",
      "nbconvert_exporter": "python",
      "pygments_lexer": "ipython3",
      "version": "3.10.1"
    },
    "vscode": {
      "interpreter": {
        "hash": "26de051ba29f2982a8de78e945f0abaf191376122a1563185a90213a26c5da77"
      }
    },
    "colab": {
      "name": "deeplizard Q-learning Frozen Lake.ipynb",
      "provenance": []
    }
  },
  "nbformat": 4,
  "nbformat_minor": 0
}