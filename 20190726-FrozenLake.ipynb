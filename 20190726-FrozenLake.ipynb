{
 "cells": [
  {
   "cell_type": "code",
   "execution_count": 2,
   "metadata": {},
   "outputs": [],
   "source": [
    "import numpy as np\n",
    "import gym\n",
    "import random\n",
    "import time\n",
    "from IPython.display import clear_output\n",
    "\n",
    "env = gym.make(\"FrozenLake-v0\")"
   ]
  },
  {
   "cell_type": "code",
   "execution_count": 3,
   "metadata": {},
   "outputs": [],
   "source": [
    "action_space_size = env.action_space.n\n",
    "state_space_size = env.observation_space.n\n",
    "\n",
    "q_table = np.zeros((state_space_size, action_space_size))"
   ]
  },
  {
   "cell_type": "code",
   "execution_count": 4,
   "metadata": {
    "scrolled": false
   },
   "outputs": [
    {
     "name": "stdout",
     "output_type": "stream",
     "text": [
      "[[ 0.  0.  0.  0.]\n",
      " [ 0.  0.  0.  0.]\n",
      " [ 0.  0.  0.  0.]\n",
      " [ 0.  0.  0.  0.]\n",
      " [ 0.  0.  0.  0.]\n",
      " [ 0.  0.  0.  0.]\n",
      " [ 0.  0.  0.  0.]\n",
      " [ 0.  0.  0.  0.]\n",
      " [ 0.  0.  0.  0.]\n",
      " [ 0.  0.  0.  0.]\n",
      " [ 0.  0.  0.  0.]\n",
      " [ 0.  0.  0.  0.]\n",
      " [ 0.  0.  0.  0.]\n",
      " [ 0.  0.  0.  0.]\n",
      " [ 0.  0.  0.  0.]\n",
      " [ 0.  0.  0.  0.]]\n"
     ]
    }
   ],
   "source": [
    "print(q_table)"
   ]
  },
  {
   "cell_type": "code",
   "execution_count": 7,
   "metadata": {},
   "outputs": [],
   "source": [
    "num_episodes = 10000\n",
    "max_steps_per_episode = 100\n",
    "\n",
    "learning_rate = 0.1\n",
    "discount_rate = 0.99\n",
    "\n",
    "exploration_rate = 1\n",
    "max_exploration_rate = 1\n",
    "min_exploration_rate = 0.01\n",
    "exploration_decay_rate = 0.01"
   ]
  },
  {
   "cell_type": "code",
   "execution_count": 8,
   "metadata": {},
   "outputs": [],
   "source": [
    "rewards_all_episodes = []"
   ]
  },
  {
   "cell_type": "code",
   "execution_count": 9,
   "metadata": {},
   "outputs": [
    {
     "name": "stdout",
     "output_type": "stream",
     "text": [
      "********Average reward per thousand episodes********\n",
      "\n",
      "1000 :  0.158\n",
      "2000 :  0.464\n",
      "3000 :  0.578\n",
      "4000 :  0.615\n",
      "5000 :  0.652\n",
      "6000 :  0.658\n",
      "7000 :  0.658\n",
      "8000 :  0.696\n",
      "9000 :  0.689\n",
      "10000 :  0.665\n",
      "\n",
      "\n",
      "********Q-table********\n",
      "\n",
      "[[ 0.50913116  0.49309049  0.50038797  0.49789538]\n",
      " [ 0.25381369  0.23476883  0.11594088  0.4492495 ]\n",
      " [ 0.35417157  0.12799526  0.18694151  0.24862482]\n",
      " [ 0.07278711  0.          0.          0.        ]\n",
      " [ 0.52003304  0.30835641  0.41306503  0.38243378]\n",
      " [ 0.          0.          0.          0.        ]\n",
      " [ 0.2520174   0.109071    0.19628515  0.08262408]\n",
      " [ 0.          0.          0.          0.        ]\n",
      " [ 0.36999509  0.48828566  0.39870365  0.55117909]\n",
      " [ 0.46316305  0.6212212   0.42643342  0.38460274]\n",
      " [ 0.56172021  0.38883439  0.36574705  0.20534314]\n",
      " [ 0.          0.          0.          0.        ]\n",
      " [ 0.          0.          0.          0.        ]\n",
      " [ 0.37100955  0.43696735  0.72266554  0.52592647]\n",
      " [ 0.69199773  0.84937907  0.77235564  0.73267991]\n",
      " [ 0.          0.          0.          0.        ]]\n"
     ]
    }
   ],
   "source": [
    "# Q-learning algorithm\n",
    "for episode in range(num_episodes):\n",
    "  # initialize new episode params\n",
    "  state = env.reset()\n",
    "  \n",
    "  done = False\n",
    "  rewards_current_episode = 0\n",
    "  \n",
    "  for step in range(max_steps_per_episode): \n",
    "    # Exploration-exploitation trade-off\n",
    "    exploration_rate_threshold = random.uniform(0, 1)\n",
    "    if exploration_rate_threshold > exploration_rate:\n",
    "      action = np.argmax(q_table[state,:]) \n",
    "    else:\n",
    "      action = env.action_space.sample()\n",
    "      \n",
    "    # Take new action\n",
    "    new_state, reward, done, info = env.step(action)\n",
    "    \n",
    "    # Update Q-table\n",
    "    q_table[state, action] = q_table[state, action] * (1 - learning_rate) + \\\n",
    "                              learning_rate * (reward + discount_rate * np.max(q_table[new_state, :]))\n",
    "    # Set new state\n",
    "    state = new_state\n",
    "        \n",
    "    # Add new reward        \n",
    "    rewards_current_episode += reward \n",
    "    \n",
    "    if done == True: \n",
    "      break\n",
    "    \n",
    "  # Exploration rate decay   \n",
    "  exploration_rate = min_exploration_rate + \\\n",
    "                    (max_exploration_rate - min_exploration_rate) * np.exp(-exploration_decay_rate*episode)\n",
    "\n",
    "  # Add current episode reward to total rewards list\n",
    "  rewards_all_episodes.append(rewards_current_episode)\n",
    "\n",
    "# Calculate and print the average reward per thousand episodes\n",
    "rewards_per_thosand_episodes = np.split(np.array(rewards_all_episodes),num_episodes/1000)\n",
    "count = 1000\n",
    "\n",
    "print(\"********Average reward per thousand episodes********\\n\")\n",
    "for r in rewards_per_thosand_episodes:\n",
    "  print(count, \": \", str(sum(r/1000)))\n",
    "  count += 1000\n",
    "    \n",
    "# Print updated Q-table\n",
    "print(\"\\n\\n********Q-table********\\n\")\n",
    "print(q_table)"
   ]
  }
 ],
 "metadata": {
  "kernelspec": {
   "display_name": "Python 3.10.1 64-bit",
   "language": "python",
   "name": "python3"
  },
  "language_info": {
   "codemirror_mode": {
    "name": "ipython",
    "version": 3
   },
   "file_extension": ".py",
   "mimetype": "text/x-python",
   "name": "python",
   "nbconvert_exporter": "python",
   "pygments_lexer": "ipython3",
   "version": "3.10.1"
  },
  "vscode": {
   "interpreter": {
    "hash": "26de051ba29f2982a8de78e945f0abaf191376122a1563185a90213a26c5da77"
   }
  }
 },
 "nbformat": 4,
 "nbformat_minor": 2
}
