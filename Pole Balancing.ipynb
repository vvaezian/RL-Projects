{
 "cells": [
  {
   "cell_type": "markdown",
   "metadata": {},
   "source": [
    "## Car Pole"
   ]
  },
  {
   "cell_type": "markdown",
   "metadata": {},
   "source": [
    "### Description\n",
    "A pole is attached by an un-actuated joint to a cart, which moves along a frictionless track. The pendulum is placed upright on the cart and the goal is to balance the pole by applying forces in the left and right direction on the cart.\n",
    "\n",
    "### Actions\n",
    "There are 4 discrete deterministic actions:\n",
    "```\n",
    "    0: push to the left\n",
    "    1: push to the right\n",
    "```\n",
    "\n",
    "### Observations\n",
    "```\n",
    "0   Cart Position (x-axis)  -4.8                4.8\n",
    "1   Cart Velocity           -Inf                Inf\n",
    "2   Pole Angle              ~ -0.418 rad (-24°) ~ 0.418 rad (24°)\n",
    "3   Pole Angular Velocity   -Inf                Inf\n",
    "```\n",
    "### Reward\n",
    "+1 for every step taken, including the termination step. The threshold for rewards is 475 for v1.  \n",
    "(The task is setup as episodic. To set it up as non-episodic (AKA continuing task) the reward would be −1 on each failure and zero at all other times)\n",
    "\n",
    "### Starting State\n",
    "\n",
    "All observations are assigned a uniformly random value in (-0.05, 0.05)\n",
    "Episode Termination\n",
    "\n",
    "### Termination conditions\n",
    "```\n",
    "Pole Angle is greater than ±12°\n",
    "Cart Position is greater than ±2.4 (center of the cart reaches the edge of the display)\n",
    "Episode length is greater than 500\n",
    "```\n",
    "\n"
   ]
  },
  {
   "cell_type": "code",
   "execution_count": 1,
   "metadata": {},
   "outputs": [
    {
     "data": {
      "text/plain": [
       "'0.25.0'"
      ]
     },
     "execution_count": 1,
     "metadata": {},
     "output_type": "execute_result"
    }
   ],
   "source": [
    "import numpy as np\n",
    "import gym\n",
    "import random\n",
    "import time\n",
    "from IPython.display import clear_output\n",
    "gym.__version__"
   ]
  },
  {
   "cell_type": "code",
   "execution_count": 2,
   "metadata": {},
   "outputs": [],
   "source": [
    "env = gym.make('CartPole-v1', new_step_api=True)"
   ]
  },
  {
   "cell_type": "code",
   "execution_count": 3,
   "metadata": {},
   "outputs": [
    {
     "data": {
      "text/plain": [
       "EnvSpec(id='CartPole-v1', entry_point='gym.envs.classic_control.cartpole:CartPoleEnv', reward_threshold=475.0, nondeterministic=False, max_episode_steps=500, order_enforce=True, autoreset=False, disable_env_checker=False, new_step_api=False, kwargs={}, namespace=None, name='CartPole', version=1)"
      ]
     },
     "execution_count": 3,
     "metadata": {},
     "output_type": "execute_result"
    }
   ],
   "source": [
    "env.spec"
   ]
  },
  {
   "cell_type": "code",
   "execution_count": 11,
   "metadata": {},
   "outputs": [],
   "source": [
    "state = env.reset()"
   ]
  },
  {
   "cell_type": "code",
   "execution_count": 13,
   "metadata": {},
   "outputs": [
    {
     "data": {
      "text/plain": [
       "1"
      ]
     },
     "execution_count": 13,
     "metadata": {},
     "output_type": "execute_result"
    }
   ],
   "source": [
    "action = env.action_space.sample()\n",
    "action"
   ]
  },
  {
   "cell_type": "code",
   "execution_count": 14,
   "metadata": {},
   "outputs": [],
   "source": [
    "new_state, reward, done, _, info = env.step(action)"
   ]
  },
  {
   "cell_type": "code",
   "execution_count": 15,
   "metadata": {},
   "outputs": [
    {
     "data": {
      "text/plain": [
       "(array([-0.04196024,  0.39198658,  0.00373235, -0.6199233 ], dtype=float32),\n",
       " 1.0,\n",
       " False,\n",
       " False,\n",
       " {})"
      ]
     },
     "execution_count": 15,
     "metadata": {},
     "output_type": "execute_result"
    }
   ],
   "source": [
    "env.step(action)"
   ]
  },
  {
   "cell_type": "markdown",
   "metadata": {},
   "source": [
    "There are uncountably-many states, so the q_learning methd doesn't work here"
   ]
  },
  {
   "cell_type": "code",
   "execution_count": 43,
   "metadata": {},
   "outputs": [
    {
     "name": "stderr",
     "output_type": "stream",
     "text": [
      "C:\\Users\\vahid\\AppData\\Roaming\\Python\\Python310\\site-packages\\gym\\core.py:268: DeprecationWarning: \u001b[33mWARN: Function `env.seed(seed)` is marked as deprecated and will be removed in the future. Please use `env.reset(seed=seed)` instead.\u001b[0m\n",
      "  deprecation(\n",
      "C:\\Users\\vahid\\AppData\\Roaming\\Python\\Python310\\site-packages\\gym\\utils\\seeding.py:95: DeprecationWarning: \u001b[33mWARN: Function `rng.seed(seed)` is marked as deprecated and will be removed in the future. Please use `rng, seed = gym.utils.seeding.np_random(seed)` to create a separate generator instead.\u001b[0m\n",
      "  deprecation(\n"
     ]
    },
    {
     "name": "stdout",
     "output_type": "stream",
     "text": [
      "********Average reward per thousand episodes********\n",
      "\n",
      "1000 :  -819.6330000000015\n",
      "2000 :  -308.6950000000001\n",
      "3000 :  -135.41899999999993\n",
      "4000 :  -90.55600000000027\n",
      "5000 :  -55.38199999999993\n",
      "6000 :  -34.18000000000033\n",
      "7000 :  -23.8650000000005\n",
      "8000 :  -21.68200000000027\n",
      "9000 :  -17.295000000000073\n",
      "10000 :  -16.03099999999992\n"
     ]
    },
    {
     "data": {
      "text/plain": [
       "<Figure size 1080x720 with 0 Axes>"
      ]
     },
     "metadata": {},
     "output_type": "display_data"
    },
    {
     "data": {
      "image/png": "[encoded data removed]",
      "text/plain": [
       "<Figure size 432x288 with 2 Axes>"
      ]
     },
     "metadata": {
      "needs_background": "light"
     },
     "output_type": "display_data"
    }
   ],
   "source": [
    "action_space_size = env.action_space.n\n",
    "state_space_size = env.observation_space.n\n",
    "\n",
    "num_episodes = 10000\n",
    "max_steps_per_episode = 500\n",
    "\n",
    "learning_rate = 0.01\n",
    "discount_rate = 0.99\n",
    "\n",
    "exploration_rate = 1\n",
    "max_exploration_rate = 1\n",
    "min_exploration_rate = 0\n",
    "exploration_decay_rate = 0.0005\n",
    "\n",
    "RANDOM_SEED = 0\n",
    "env.seed(RANDOM_SEED)\n",
    "np.random.seed(RANDOM_SEED)\n",
    "random.seed(RANDOM_SEED)\n",
    "env.action_space.seed(RANDOM_SEED)\n",
    "env.action_space.np_random.seed(RANDOM_SEED)\n",
    "\n",
    "q_table = np.zeros((state_space_size, action_space_size))\n",
    "\n",
    "rewards_all_episodes = []\n",
    "all_episodes_info = []\n",
    "output = []\n",
    "rewards = []\n",
    "\n",
    "# Q-learning algorithm\n",
    "for episode in range(num_episodes):\n",
    "    state = env.reset()\n",
    "    done = False\n",
    "    rewards_current_episode = 0\n",
    "    step_count = 0\n",
    "    steps = []\n",
    "    for step in range(max_steps_per_episode):       \n",
    "        #print(episode, step)\n",
    "\n",
    "        step_count += 1\n",
    "\n",
    "        # Exploration-exploitation trade-off\n",
    "        exploration_rate_threshold = random.uniform(0, 1)\n",
    "\n",
    "        if exploration_rate_threshold > exploration_rate:\n",
    "            action = np.argmax(q_table[state,:]) \n",
    "        else:\n",
    "            action = env.action_space.sample()\n",
    "\n",
    "        steps.append(action)\n",
    "        new_state, reward, terminated, _, info = env.step(action)\n",
    "\n",
    "        # Update Q-table for Q(s,a)\n",
    "        q_table[state, action] = q_table[state, action] * (1 - learning_rate) + \\\n",
    "            learning_rate * (reward + discount_rate * np.max(q_table[new_state, :]))\n",
    "        \n",
    "        state = new_state\n",
    "        rewards_current_episode += reward        \n",
    "        \n",
    "        if terminated == True: # i.e. it didn't run out of steps\n",
    "            rewards.append([episode, step, reward])\n",
    "            if reward == -1:  # i.e. it didn't step on the cliff\n",
    "              output.append(q_table.copy())\n",
    "            break\n",
    "    \n",
    "    all_episodes_info.append([episode, exploration_rate, step_count, reward, steps])\n",
    "\n",
    "    # Exploration rate decay\n",
    "    exploration_rate = min_exploration_rate + \\\n",
    "        (max_exploration_rate - min_exploration_rate) * np.exp(-exploration_decay_rate * episode)    \n",
    "    \n",
    "    rewards_all_episodes.append(rewards_current_episode)\n",
    "\n",
    "# Calculate and print the average reward per thousand episodes\n",
    "rewards_per_thosand_episodes = np.split(np.array(rewards_all_episodes), num_episodes/1000)\n",
    "count = 1000\n",
    "print(\"********Average reward per thousand episodes********\\n\")\n",
    "for r in rewards_per_thosand_episodes:\n",
    "    print(count, \": \", str(sum(r/1000)))\n",
    "    count += 1000    \n",
    "\n",
    "import matplotlib.pyplot as plt\n",
    "plt.figure(figsize=(15, 10))\n",
    "fig, ax1 = plt.subplots()\n",
    "ax2 = ax1.twinx()\n",
    "ax1.plot(range(1000, num_episodes + 1, 1000), [ sum(i)/1000 for i in rewards_per_thosand_episodes ], 'g-')\n",
    "ax2.plot([i[0] for i in all_episodes_info], [i[1] for i in all_episodes_info], 'b-')\n",
    "ax1.set_xlabel('Episodes')\n",
    "ax1.set_ylabel('Reward Per Thousand Episodes', color='g')\n",
    "ax2.set_ylabel('Exploration Rate', color='b')\n",
    "plt.show()"
   ]
  },
  {
   "cell_type": "code",
   "execution_count": 37,
   "metadata": {},
   "outputs": [
    {
     "name": "stdout",
     "output_type": "stream",
     "text": [
      "['-10','-10','-10','-10'] ['-10','-10','-10','-10'] ['-9','-9','-9','-9']     ['-9','-9','-9','-9']     ['-8','-8','-8','-8']     ['-7','-7','-7','-7']     ['-6','-6','-6','-6']     ['-6','-6','-6','-6']     ['-5','-5','-5','-5']     ['-4','-4','-4','-4']     ['-3','-3','-3','-3']     ['-2','-2','-2','-3']    \n",
      "['-10','-10','-10','-10'] ['-10','-10','-10','-10'] ['-9','-9','-9','-9']     ['-9','-9','-9','-9']     ['-8','-8','-8','-8']     ['-7','-7','-7','-7']     ['-6','-6','-6','-6']     ['-5','-5','-5','-6']     ['-5','-4','-4','-5']     ['-4','-3','-3','-4']     ['-3','-2','-2','-3']     ['-3','-2','-1','-3']    \n",
      "['-11','-11','-12','-12'] ['-11','-10','-111','-12'] ['-10','-9','-111','-11'] ['-9','-8','-111','-10']  ['-8','-7','-111','-9']   ['-7','-6','-111','-8']   ['-7','-5','-111','-7']   ['-6','-4','-110','-6']   ['-5','-3','-110','-5']   ['-4','-2','-109','-4']   ['-3','-1','-109','-3']   ['-2','-1','0','-2']     \n",
      "['-12','-111','-12','-12'] ['0','0','0','0']         ['0','0','0','0']         ['0','0','0','0']         ['0','0','0','0']         ['0','0','0','0']         ['0','0','0','0']         ['0','0','0','0']         ['0','0','0','0']         ['0','0','0','0']         ['0','0','0','0']         ['0','0','0','0']        \n"
     ]
    }
   ],
   "source": [
    "import json\n",
    "q = output[-1].astype(int).astype(str)\n",
    "q = [ list(i) for i in q ]\n",
    "for n in range(4):\n",
    "  print(*[ json.dumps(list(i)).ljust(28).replace('\"', \"'\").replace(', ', ',') for i in q[12*n:12*(n+1)] ])"
   ]
  },
  {
   "cell_type": "markdown",
   "metadata": {},
   "source": [
    "#### Viewing how probabilities of actions are updated"
   ]
  },
  {
   "cell_type": "code",
   "execution_count": null,
   "metadata": {},
   "outputs": [],
   "source": [
    "for q_table in output:    \n",
    "  q = q_table.astype(int).astype(str)\n",
    "  q = [ list(i) for i in q ]\n",
    "  for n in range(4):\n",
    "    print(*[ json.dumps(list(i)).ljust(28).replace('\"', \"'\").replace(', ', ',') for i in q[12*n:12*(n+1)] ])\n",
    "  time.sleep(0.2)\n",
    "  clear_output(wait=True)"
   ]
  }
 ],
 "metadata": {
  "anaconda-cloud": {},
  "kernelspec": {
   "display_name": "Python 3.10.1 64-bit",
   "language": "python",
   "name": "python3"
  },
  "language_info": {
   "codemirror_mode": {
    "name": "ipython",
    "version": 3
   },
   "file_extension": ".py",
   "mimetype": "text/x-python",
   "name": "python",
   "nbconvert_exporter": "python",
   "pygments_lexer": "ipython3",
   "version": "3.10.1"
  },
  "vscode": {
   "interpreter": {
    "hash": "26de051ba29f2982a8de78e945f0abaf191376122a1563185a90213a26c5da77"
   }
  }
 },
 "nbformat": 4,
 "nbformat_minor": 2
}
